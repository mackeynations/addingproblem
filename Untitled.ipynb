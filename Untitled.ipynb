{
 "cells": [
  {
   "cell_type": "code",
   "execution_count": 1,
   "id": "bea51016",
   "metadata": {},
   "outputs": [],
   "source": [
    "import torch\n",
    "import numpy as np\n",
    "import random\n",
    "\n",
    "from addinggenerator import TrajectoryGenerator as tg"
   ]
  },
  {
   "cell_type": "code",
   "execution_count": 2,
   "id": "935a595e",
   "metadata": {},
   "outputs": [],
   "source": [
    "class Test(object):\n",
    "    pass\n",
    "\n",
    "t = Test()\n",
    "t.batch_size = 3\n",
    "t.seq_length = 5\n",
    "\n",
    "x = tg(t)"
   ]
  },
  {
   "cell_type": "code",
   "execution_count": 5,
   "id": "d368e7b0",
   "metadata": {},
   "outputs": [
    {
     "name": "stdout",
     "output_type": "stream",
     "text": [
      "(tensor([[[0.9026, 1.0000],\n",
      "         [0.9654, 0.0000],\n",
      "         [0.0613, 1.0000],\n",
      "         [0.0331, 0.0000],\n",
      "         [0.5004, 0.0000]],\n",
      "\n",
      "        [[0.6556, 0.0000],\n",
      "         [0.5526, 0.0000],\n",
      "         [0.1483, 1.0000],\n",
      "         [0.1118, 0.0000],\n",
      "         [0.4191, 1.0000]],\n",
      "\n",
      "        [[0.1803, 0.0000],\n",
      "         [0.7125, 0.0000],\n",
      "         [0.8981, 0.0000],\n",
      "         [0.5176, 1.0000],\n",
      "         [0.7960, 1.0000]]]), tensor([0.9639, 0.5674, 1.3137]))\n"
     ]
    }
   ],
   "source": [
    "y = next(x.get_generator())\n",
    "print(y)"
   ]
  },
  {
   "cell_type": "code",
   "execution_count": null,
   "id": "afb8e661",
   "metadata": {},
   "outputs": [],
   "source": []
  }
 ],
 "metadata": {
  "kernelspec": {
   "display_name": "Python 3 (ipykernel)",
   "language": "python",
   "name": "python3"
  },
  "language_info": {
   "codemirror_mode": {
    "name": "ipython",
    "version": 3
   },
   "file_extension": ".py",
   "mimetype": "text/x-python",
   "name": "python",
   "nbconvert_exporter": "python",
   "pygments_lexer": "ipython3",
   "version": "3.10.11"
  }
 },
 "nbformat": 4,
 "nbformat_minor": 5
}
